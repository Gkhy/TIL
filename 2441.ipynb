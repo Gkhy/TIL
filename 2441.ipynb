{
  "nbformat": 4,
  "nbformat_minor": 0,
  "metadata": {
    "colab": {
      "provenance": [],
      "authorship_tag": "ABX9TyNtcfh8MZeNRmeebBiYoNS+"
    },
    "kernelspec": {
      "name": "python3",
      "display_name": "Python 3"
    },
    "language_info": {
      "name": "python"
    }
  },
  "cells": [
    {
      "cell_type": "code",
      "execution_count": 2,
      "metadata": {
        "colab": {
          "base_uri": "https://localhost:8080/"
        },
        "id": "Agi14k8otjpV",
        "outputId": "e3200e63-38fc-42ee-b389-716d0a5f3ad2"
      },
      "outputs": [
        {
          "output_type": "stream",
          "name": "stdout",
          "text": [
            "5\n",
            "*****\n",
            " ****\n",
            "  ***\n",
            "   **\n",
            "    *\n"
          ]
        }
      ],
      "source": [
        "n=int(input())\n",
        "a=n\n",
        "while(a>0):\n",
        "  print(' '*(n-a)+'*'*a)\n",
        "  a-=1"
      ]
    }
  ]
}