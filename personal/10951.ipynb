{
  "nbformat": 4,
  "nbformat_minor": 0,
  "metadata": {
    "colab": {
      "provenance": [],
      "authorship_tag": "ABX9TyNk0r295XNS5c+4x/MUzclX"
    },
    "kernelspec": {
      "name": "python3",
      "display_name": "Python 3"
    },
    "language_info": {
      "name": "python"
    }
  },
  "cells": [
    {
      "cell_type": "code",
      "execution_count": null,
      "metadata": {
        "colab": {
          "base_uri": "https://localhost:8080/"
        },
        "id": "eMrw-7i-N8bI",
        "outputId": "5092e0b9-b53c-480d-96bd-4a5724f9117e"
      },
      "outputs": [
        {
          "output_type": "stream",
          "name": "stdout",
          "text": [
            "1 1\n",
            "2\n"
          ]
        }
      ],
      "source": [
        "while True:\n",
        "  try:\n",
        "    a,b=map(int,input().split())\n",
        "    print(a+b)\n",
        "  except:\n",
        "    break"
      ]
    },
    {
      "cell_type": "code",
      "source": [],
      "metadata": {
        "id": "OGMW1278PXOR"
      },
      "execution_count": null,
      "outputs": []
    }
  ]
}