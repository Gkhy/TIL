{
  "nbformat": 4,
  "nbformat_minor": 0,
  "metadata": {
    "colab": {
      "provenance": [],
      "authorship_tag": "ABX9TyPXQzHiiWBzH4Zh0AH70oQy"
    },
    "kernelspec": {
      "name": "python3",
      "display_name": "Python 3"
    },
    "language_info": {
      "name": "python"
    }
  },
  "cells": [
    {
      "cell_type": "code",
      "execution_count": 1,
      "metadata": {
        "colab": {
          "base_uri": "https://localhost:8080/"
        },
        "id": "1ghOsuNkZLyz",
        "outputId": "6964b6b5-b59f-45fc-a768-08bd3f442871"
      },
      "outputs": [
        {
          "output_type": "stream",
          "name": "stdout",
          "text": [
            "-60 40\n",
            "-20\n"
          ]
        }
      ],
      "source": [
        "a,b=map(int,input().split())\n",
        "print(a+b)"
      ]
    }
  ]
}